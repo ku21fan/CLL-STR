{
 "cells": [
  {
   "cell_type": "markdown",
   "metadata": {
    "id": "EphqAKAI7SVh"
   },
   "source": [
    "<a href=\"https://colab.research.google.com/github/ku21fan/STR-Fewer-Labels/blob/master/demo_in_colab.ipynb\" target=\"_parent\"><img src=\"https://colab.research.google.com/assets/colab-badge.svg\" alt=\"Open In Colab\"/></a>"
   ]
  },
  {
   "cell_type": "code",
   "execution_count": null,
   "metadata": {
    "colab": {
     "base_uri": "https://localhost:8080/"
    },
    "id": "1EjDDiCZyBkz",
    "outputId": "5842af60-27a0-4f9f-d353-edf038357fa3"
   },
   "outputs": [],
   "source": [
    "!git clone https://github.com/ku21fan/CLL-STR\n",
    "%cd CLL-STR"
   ]
  },
  {
   "cell_type": "code",
   "execution_count": null,
   "metadata": {
    "colab": {
     "base_uri": "https://localhost:8080/"
    },
    "id": "AO9wkAChy2Os",
    "outputId": "43a439e5-9c44-413a-fdff-b5822bf53ea9"
   },
   "outputs": [],
   "source": [
    "!wget -O SVTR_joint_All.pth https://www.dropbox.com/scl/fi/q9r2ebbnr94xv4azyl7o1/SVTR_joint_All.pth?rlkey=wsonhqkffwyb4jixva44p0s5y"
   ]
  },
  {
   "cell_type": "code",
   "execution_count": null,
   "metadata": {
    "colab": {
     "base_uri": "https://localhost:8080/"
    },
    "id": "M14G5wuDzoro",
    "outputId": "9b1f3955-c778-4589-913e-1299b0d523ff"
   },
   "outputs": [],
   "source": [
    "!ls"
   ]
  },
  {
   "cell_type": "code",
   "execution_count": null,
   "metadata": {
    "id": "t_7VylhTy9x_"
   },
   "outputs": [],
   "source": [
    "output = !CUDA_VISIBLE_DEVICES=0 python3 demo.py --model_name SVTR --image_folder demo_image/ \\\n",
    "--saved_model SVTR_joint_All.pth"
   ]
  },
  {
   "cell_type": "code",
   "execution_count": null,
   "metadata": {
    "colab": {
     "base_uri": "https://localhost:8080/",
     "height": 1000
    },
    "id": "Fyo97Kx5zcxb",
    "outputId": "478fb556-fa31-425d-ae7e-cc4f118f3603",
    "scrolled": true
   },
   "outputs": [],
   "source": [
    "from IPython.core.display import display, HTML\n",
    "from PIL import Image\n",
    "import base64\n",
    "import io\n",
    "import pandas as pd\n",
    "\n",
    "data = pd.DataFrame()\n",
    "for ind, row in enumerate(output[output.index('image_path               \\tpredicted_labels         \\tconfidence score')+2:]):\n",
    "  row = row.split('\\t')\n",
    "  filename = row[0].strip()\n",
    "  label = row[1].strip()\n",
    "  conf = row[2].strip()\n",
    "  img = Image.open(filename)\n",
    "  img_buffer = io.BytesIO()\n",
    "  img.save(img_buffer, format=\"PNG\")\n",
    "  imgStr = base64.b64encode(img_buffer.getvalue()).decode(\"utf-8\") \n",
    "\n",
    "  data.loc[ind, 'img'] = '<img src=\"data:image/png;base64,{0:s}\">'.format(imgStr)\n",
    "  data.loc[ind, 'id'] = filename\n",
    "  data.loc[ind, 'label'] = label\n",
    "  data.loc[ind, 'conf'] = conf\n",
    "\n",
    "html_all = data.to_html(escape=False)\n",
    "display(HTML(html_all))"
   ]
  }
 ],
 "metadata": {
  "colab": {
   "name": "STR-Fewer-Labels.ipynb",
   "provenance": []
  },
  "kernelspec": {
   "display_name": "Python 3 (ipykernel)",
   "language": "python",
   "name": "python3"
  },
  "language_info": {
   "codemirror_mode": {
    "name": "ipython",
    "version": 3
   },
   "file_extension": ".py",
   "mimetype": "text/x-python",
   "name": "python",
   "nbconvert_exporter": "python",
   "pygments_lexer": "ipython3",
   "version": "3.8.12"
  }
 },
 "nbformat": 4,
 "nbformat_minor": 1
}
